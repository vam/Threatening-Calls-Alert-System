{
 "cells": [
  {
   "cell_type": "markdown",
   "metadata": {
    "id": "42XjyCEVz6Tb"
   },
   "source": [
    "**Installation of required libraries**"
   ]
  },
  {
   "cell_type": "code",
   "execution_count": 1,
   "metadata": {
    "id": "Sfrs_FAvy6J3"
   },
   "outputs": [
    {
     "name": "stdout",
     "output_type": "stream",
     "text": [
      "Requirement already satisfied: pyaudio in /Users/vamshi/.local/lib/python3.9/site-packages (0.2.13)\r\n"
     ]
    }
   ],
   "source": [
    "!pip install pyaudio"
   ]
  },
  {
   "cell_type": "code",
   "execution_count": 2,
   "metadata": {
    "id": "ngyh8mrJ0JbE"
   },
   "outputs": [
    {
     "name": "stdout",
     "output_type": "stream",
     "text": [
      "Requirement already satisfied: SpeechRecognition in /Users/vamshi/opt/anaconda3/lib/python3.9/site-packages (3.10.0)\r\n",
      "Requirement already satisfied: requests>=2.26.0 in /Users/vamshi/opt/anaconda3/lib/python3.9/site-packages (from SpeechRecognition) (2.29.0)\r\n",
      "Requirement already satisfied: charset-normalizer<4,>=2 in /Users/vamshi/opt/anaconda3/lib/python3.9/site-packages (from requests>=2.26.0->SpeechRecognition) (2.0.4)\r\n",
      "Requirement already satisfied: idna<4,>=2.5 in /Users/vamshi/opt/anaconda3/lib/python3.9/site-packages (from requests>=2.26.0->SpeechRecognition) (3.4)\r\n",
      "Requirement already satisfied: urllib3<1.27,>=1.21.1 in /Users/vamshi/opt/anaconda3/lib/python3.9/site-packages (from requests>=2.26.0->SpeechRecognition) (1.26.16)\r\n",
      "Requirement already satisfied: certifi>=2017.4.17 in /Users/vamshi/opt/anaconda3/lib/python3.9/site-packages (from requests>=2.26.0->SpeechRecognition) (2022.6.15)\r\n"
     ]
    }
   ],
   "source": [
    "!pip install SpeechRecognition"
   ]
  },
  {
   "cell_type": "code",
   "execution_count": 3,
   "metadata": {
    "id": "5U5i4J5l0LP_"
   },
   "outputs": [
    {
     "name": "stdout",
     "output_type": "stream",
     "text": [
      "Requirement already satisfied: pywhatkit in /Users/vamshi/opt/anaconda3/lib/python3.9/site-packages (5.4)\n",
      "Requirement already satisfied: Pillow in /Users/vamshi/opt/anaconda3/lib/python3.9/site-packages (from pywhatkit) (9.4.0)\n",
      "Requirement already satisfied: pyautogui in /Users/vamshi/opt/anaconda3/lib/python3.9/site-packages (from pywhatkit) (0.9.54)\n",
      "Requirement already satisfied: requests in /Users/vamshi/opt/anaconda3/lib/python3.9/site-packages (from pywhatkit) (2.29.0)\n",
      "Requirement already satisfied: wikipedia in /Users/vamshi/opt/anaconda3/lib/python3.9/site-packages (from pywhatkit) (1.4.0)\n",
      "Requirement already satisfied: Flask in /Users/vamshi/opt/anaconda3/lib/python3.9/site-packages (from pywhatkit) (1.1.2)\n",
      "Requirement already satisfied: Werkzeug>=0.15 in /Users/vamshi/opt/anaconda3/lib/python3.9/site-packages (from Flask->pywhatkit) (2.0.3)\n",
      "Requirement already satisfied: Jinja2>=2.10.1 in /Users/vamshi/opt/anaconda3/lib/python3.9/site-packages (from Flask->pywhatkit) (2.11.3)\n",
      "Requirement already satisfied: itsdangerous>=0.24 in /Users/vamshi/opt/anaconda3/lib/python3.9/site-packages (from Flask->pywhatkit) (2.0.1)\n",
      "Requirement already satisfied: click>=5.1 in /Users/vamshi/opt/anaconda3/lib/python3.9/site-packages (from Flask->pywhatkit) (8.0.4)\n",
      "Requirement already satisfied: pymsgbox in /Users/vamshi/opt/anaconda3/lib/python3.9/site-packages (from pyautogui->pywhatkit) (1.0.9)\n",
      "Requirement already satisfied: pytweening>=1.0.4 in /Users/vamshi/opt/anaconda3/lib/python3.9/site-packages (from pyautogui->pywhatkit) (1.0.7)\n",
      "Requirement already satisfied: pyscreeze>=0.1.21 in /Users/vamshi/opt/anaconda3/lib/python3.9/site-packages (from pyautogui->pywhatkit) (0.1.29)\n",
      "Requirement already satisfied: pygetwindow>=0.0.5 in /Users/vamshi/opt/anaconda3/lib/python3.9/site-packages (from pyautogui->pywhatkit) (0.0.9)\n",
      "Requirement already satisfied: mouseinfo in /Users/vamshi/opt/anaconda3/lib/python3.9/site-packages (from pyautogui->pywhatkit) (0.1.3)\n",
      "Requirement already satisfied: pyobjc-core in /Users/vamshi/opt/anaconda3/lib/python3.9/site-packages (from pyautogui->pywhatkit) (9.2)\n",
      "Requirement already satisfied: pyobjc-framework-quartz in /Users/vamshi/opt/anaconda3/lib/python3.9/site-packages (from pyautogui->pywhatkit) (9.2)\n",
      "Requirement already satisfied: charset-normalizer<4,>=2 in /Users/vamshi/opt/anaconda3/lib/python3.9/site-packages (from requests->pywhatkit) (2.0.4)\n",
      "Requirement already satisfied: idna<4,>=2.5 in /Users/vamshi/opt/anaconda3/lib/python3.9/site-packages (from requests->pywhatkit) (3.4)\n",
      "Requirement already satisfied: urllib3<1.27,>=1.21.1 in /Users/vamshi/opt/anaconda3/lib/python3.9/site-packages (from requests->pywhatkit) (1.26.16)\n",
      "Requirement already satisfied: certifi>=2017.4.17 in /Users/vamshi/opt/anaconda3/lib/python3.9/site-packages (from requests->pywhatkit) (2022.6.15)\n",
      "Requirement already satisfied: beautifulsoup4 in /Users/vamshi/opt/anaconda3/lib/python3.9/site-packages (from wikipedia->pywhatkit) (4.12.2)\n",
      "Requirement already satisfied: MarkupSafe>=0.23 in /Users/vamshi/opt/anaconda3/lib/python3.9/site-packages (from Jinja2>=2.10.1->Flask->pywhatkit) (2.0.1)\n",
      "Requirement already satisfied: pyrect in /Users/vamshi/opt/anaconda3/lib/python3.9/site-packages (from pygetwindow>=0.0.5->pyautogui->pywhatkit) (0.2.0)\n",
      "Requirement already satisfied: pyscreenshot in /Users/vamshi/opt/anaconda3/lib/python3.9/site-packages (from pyscreeze>=0.1.21->pyautogui->pywhatkit) (3.1)\n",
      "Requirement already satisfied: soupsieve>1.2 in /Users/vamshi/opt/anaconda3/lib/python3.9/site-packages (from beautifulsoup4->wikipedia->pywhatkit) (2.4)\n",
      "Requirement already satisfied: pyperclip in /Users/vamshi/opt/anaconda3/lib/python3.9/site-packages (from mouseinfo->pyautogui->pywhatkit) (1.8.2)\n",
      "Requirement already satisfied: rubicon-objc in /Users/vamshi/opt/anaconda3/lib/python3.9/site-packages (from mouseinfo->pyautogui->pywhatkit) (0.4.6)\n",
      "Requirement already satisfied: pyobjc-framework-Cocoa>=9.2 in /Users/vamshi/opt/anaconda3/lib/python3.9/site-packages (from pyobjc-framework-quartz->pyautogui->pywhatkit) (9.2)\n",
      "Requirement already satisfied: EasyProcess in /Users/vamshi/opt/anaconda3/lib/python3.9/site-packages (from pyscreenshot->pyscreeze>=0.1.21->pyautogui->pywhatkit) (1.1)\n",
      "Requirement already satisfied: entrypoint2 in /Users/vamshi/opt/anaconda3/lib/python3.9/site-packages (from pyscreenshot->pyscreeze>=0.1.21->pyautogui->pywhatkit) (1.1)\n",
      "Requirement already satisfied: mss in /Users/vamshi/opt/anaconda3/lib/python3.9/site-packages (from pyscreenshot->pyscreeze>=0.1.21->pyautogui->pywhatkit) (9.0.1)\n"
     ]
    }
   ],
   "source": [
    "!pip install pywhatkit"
   ]
  },
  {
   "cell_type": "code",
   "execution_count": 4,
   "metadata": {
    "colab": {
     "base_uri": "https://localhost:8080/"
    },
    "id": "XfIFJcCHKUqM",
    "outputId": "92d087a4-7b0f-48dc-f46c-cc1cf3fa6488"
   },
   "outputs": [
    {
     "name": "stdout",
     "output_type": "stream",
     "text": [
      "Requirement already satisfied: nltk in /Users/vamshi/opt/anaconda3/lib/python3.9/site-packages (3.8.1)\r\n",
      "Requirement already satisfied: click in /Users/vamshi/opt/anaconda3/lib/python3.9/site-packages (from nltk) (8.0.4)\r\n",
      "Requirement already satisfied: joblib in /Users/vamshi/opt/anaconda3/lib/python3.9/site-packages (from nltk) (1.2.0)\r\n",
      "Requirement already satisfied: regex>=2021.8.3 in /Users/vamshi/opt/anaconda3/lib/python3.9/site-packages (from nltk) (2022.7.9)\r\n",
      "Requirement already satisfied: tqdm in /Users/vamshi/opt/anaconda3/lib/python3.9/site-packages (from nltk) (4.65.0)\r\n"
     ]
    }
   ],
   "source": [
    "!pip install nltk"
   ]
  },
  {
   "cell_type": "markdown",
   "metadata": {
    "id": "P81qutGy11G2"
   },
   "source": [
    "**Recording the audio and converting it into text**"
   ]
  },
  {
   "cell_type": "code",
   "execution_count": 5,
   "metadata": {
    "id": "Z6zYeRHV0ZsS"
   },
   "outputs": [],
   "source": [
    "#Importing the libraries for conversion of audio to text\n",
    "import speech_recognition as sr\n",
    "import IPython"
   ]
  },
  {
   "cell_type": "code",
   "execution_count": 6,
   "metadata": {
    "id": "4LjydS6D0lCI"
   },
   "outputs": [
    {
     "name": "stdout",
     "output_type": "stream",
     "text": [
      "Could not import the PyAudio C module 'pyaudio._portaudio'.\n"
     ]
    },
    {
     "ename": "AttributeError",
     "evalue": "Could not find PyAudio; check installation",
     "output_type": "error",
     "traceback": [
      "\u001b[0;31m---------------------------------------------------------------------------\u001b[0m",
      "\u001b[0;31mImportError\u001b[0m                               Traceback (most recent call last)",
      "File \u001b[0;32m~/opt/anaconda3/lib/python3.9/site-packages/speech_recognition/__init__.py:108\u001b[0m, in \u001b[0;36mMicrophone.get_pyaudio\u001b[0;34m()\u001b[0m\n\u001b[1;32m    107\u001b[0m \u001b[38;5;28;01mtry\u001b[39;00m:\n\u001b[0;32m--> 108\u001b[0m     \u001b[38;5;28;01mimport\u001b[39;00m \u001b[38;5;21;01mpyaudio\u001b[39;00m\n\u001b[1;32m    109\u001b[0m \u001b[38;5;28;01mexcept\u001b[39;00m \u001b[38;5;167;01mImportError\u001b[39;00m:\n",
      "File \u001b[0;32m~/.local/lib/python3.9/site-packages/pyaudio/__init__.py:111\u001b[0m\n\u001b[1;32m    110\u001b[0m \u001b[38;5;28;01mtry\u001b[39;00m:\n\u001b[0;32m--> 111\u001b[0m     \u001b[38;5;28;01mimport\u001b[39;00m \u001b[38;5;21;01mpyaudio\u001b[39;00m\u001b[38;5;21;01m.\u001b[39;00m\u001b[38;5;21;01m_portaudio\u001b[39;00m \u001b[38;5;28;01mas\u001b[39;00m \u001b[38;5;21;01mpa\u001b[39;00m\n\u001b[1;32m    112\u001b[0m \u001b[38;5;28;01mexcept\u001b[39;00m \u001b[38;5;167;01mImportError\u001b[39;00m:\n",
      "\u001b[0;31mImportError\u001b[0m: dlopen(/Users/vamshi/.local/lib/python3.9/site-packages/pyaudio/_portaudio.cpython-39-darwin.so, 0x0002): symbol not found in flat namespace '_PaMacCore_SetupChannelMap'",
      "\nDuring handling of the above exception, another exception occurred:\n",
      "\u001b[0;31mAttributeError\u001b[0m                            Traceback (most recent call last)",
      "Cell \u001b[0;32mIn[6], line 5\u001b[0m\n\u001b[1;32m      2\u001b[0m r \u001b[38;5;241m=\u001b[39m sr\u001b[38;5;241m.\u001b[39mRecognizer()\n\u001b[1;32m      4\u001b[0m \u001b[38;5;66;03m# Capture audio from microphone\u001b[39;00m\n\u001b[0;32m----> 5\u001b[0m \u001b[38;5;28;01mwith\u001b[39;00m \u001b[43msr\u001b[49m\u001b[38;5;241;43m.\u001b[39;49m\u001b[43mMicrophone\u001b[49m\u001b[43m(\u001b[49m\u001b[43m)\u001b[49m \u001b[38;5;28;01mas\u001b[39;00m source:\n\u001b[1;32m      6\u001b[0m     \u001b[38;5;28mprint\u001b[39m(\u001b[38;5;124m\"\u001b[39m\u001b[38;5;124mSpeak something to record the audio...\u001b[39m\u001b[38;5;124m\"\u001b[39m)\n\u001b[1;32m      7\u001b[0m     audio \u001b[38;5;241m=\u001b[39m r\u001b[38;5;241m.\u001b[39mlisten(source)\n",
      "File \u001b[0;32m~/opt/anaconda3/lib/python3.9/site-packages/speech_recognition/__init__.py:80\u001b[0m, in \u001b[0;36mMicrophone.__init__\u001b[0;34m(self, device_index, sample_rate, chunk_size)\u001b[0m\n\u001b[1;32m     77\u001b[0m \u001b[38;5;28;01massert\u001b[39;00m \u001b[38;5;28misinstance\u001b[39m(chunk_size, \u001b[38;5;28mint\u001b[39m) \u001b[38;5;129;01mand\u001b[39;00m chunk_size \u001b[38;5;241m>\u001b[39m \u001b[38;5;241m0\u001b[39m, \u001b[38;5;124m\"\u001b[39m\u001b[38;5;124mChunk size must be a positive integer\u001b[39m\u001b[38;5;124m\"\u001b[39m\n\u001b[1;32m     79\u001b[0m \u001b[38;5;66;03m# set up PyAudio\u001b[39;00m\n\u001b[0;32m---> 80\u001b[0m \u001b[38;5;28mself\u001b[39m\u001b[38;5;241m.\u001b[39mpyaudio_module \u001b[38;5;241m=\u001b[39m \u001b[38;5;28;43mself\u001b[39;49m\u001b[38;5;241;43m.\u001b[39;49m\u001b[43mget_pyaudio\u001b[49m\u001b[43m(\u001b[49m\u001b[43m)\u001b[49m\n\u001b[1;32m     81\u001b[0m audio \u001b[38;5;241m=\u001b[39m \u001b[38;5;28mself\u001b[39m\u001b[38;5;241m.\u001b[39mpyaudio_module\u001b[38;5;241m.\u001b[39mPyAudio()\n\u001b[1;32m     82\u001b[0m \u001b[38;5;28;01mtry\u001b[39;00m:\n",
      "File \u001b[0;32m~/opt/anaconda3/lib/python3.9/site-packages/speech_recognition/__init__.py:110\u001b[0m, in \u001b[0;36mMicrophone.get_pyaudio\u001b[0;34m()\u001b[0m\n\u001b[1;32m    108\u001b[0m     \u001b[38;5;28;01mimport\u001b[39;00m \u001b[38;5;21;01mpyaudio\u001b[39;00m\n\u001b[1;32m    109\u001b[0m \u001b[38;5;28;01mexcept\u001b[39;00m \u001b[38;5;167;01mImportError\u001b[39;00m:\n\u001b[0;32m--> 110\u001b[0m     \u001b[38;5;28;01mraise\u001b[39;00m \u001b[38;5;167;01mAttributeError\u001b[39;00m(\u001b[38;5;124m\"\u001b[39m\u001b[38;5;124mCould not find PyAudio; check installation\u001b[39m\u001b[38;5;124m\"\u001b[39m)\n\u001b[1;32m    111\u001b[0m \u001b[38;5;28;01mfrom\u001b[39;00m \u001b[38;5;21;01mdistutils\u001b[39;00m\u001b[38;5;21;01m.\u001b[39;00m\u001b[38;5;21;01mversion\u001b[39;00m \u001b[38;5;28;01mimport\u001b[39;00m LooseVersion\n\u001b[1;32m    112\u001b[0m \u001b[38;5;28;01mif\u001b[39;00m LooseVersion(pyaudio\u001b[38;5;241m.\u001b[39m__version__) \u001b[38;5;241m<\u001b[39m LooseVersion(\u001b[38;5;124m\"\u001b[39m\u001b[38;5;124m0.2.11\u001b[39m\u001b[38;5;124m\"\u001b[39m):\n",
      "\u001b[0;31mAttributeError\u001b[0m: Could not find PyAudio; check installation"
     ]
    }
   ],
   "source": [
    "# Initialize recognizer\n",
    "r = sr.Recognizer()\n",
    "\n",
    "# Capture audio from microphone\n",
    "with sr.Microphone() as source:\n",
    "    print(\"Speak something to record the audio...\")\n",
    "    audio = r.listen(source)\n",
    "\n",
    "# Convert audio to text\n",
    "try:\n",
    "    text = r.recognize_google(audio)\n",
    "    print(\"You said: \" + text)\n",
    "except sr.UnknownValueError:\n",
    "    print(\"Sorry, I could not understand what you said\")\n",
    "except sr.RequestError:\n",
    "    print(\"Sorry, my speech service is currently down\")"
   ]
  },
  {
   "cell_type": "code",
   "execution_count": null,
   "metadata": {
    "id": "otiFBcB41Cg1"
   },
   "outputs": [],
   "source": [
    "#assigning the converted text to a variable\n",
    "l=text"
   ]
  },
  {
   "cell_type": "markdown",
   "metadata": {
    "id": "8-jC8BdCBSA3"
   },
   "source": [
    "**Cleaning the dataset**"
   ]
  },
  {
   "cell_type": "code",
   "execution_count": null,
   "metadata": {
    "id": "WuasM6fZAQK2"
   },
   "outputs": [],
   "source": [
    "#importing required libraries for cleaning the dataset(removing nan values,stopwords)\n",
    "import pandas as pd\n",
    "import re\n",
    "import nltk\n",
    "from tqdm import tqdm\n",
    "tqdm.pandas()"
   ]
  },
  {
   "cell_type": "code",
   "execution_count": null,
   "metadata": {
    "colab": {
     "base_uri": "https://localhost:8080/"
    },
    "id": "Gs4cVfWgAziE",
    "outputId": "f3a205f9-45fb-49df-8b27-add53392c972"
   },
   "outputs": [],
   "source": [
    "#downloading the stopwords package\n",
    "nltk.download('stopwords')"
   ]
  },
  {
   "cell_type": "code",
   "execution_count": null,
   "metadata": {
    "id": "k_i6dDpfASN_"
   },
   "outputs": [],
   "source": [
    "#loading the dataset\n",
    "data = pd.read_csv(\"Final_dataset.csv\",encoding=\"ISO-8859-1\")"
   ]
  },
  {
   "cell_type": "code",
   "execution_count": null,
   "metadata": {
    "colab": {
     "base_uri": "https://localhost:8080/"
    },
    "id": "ZP-HEAjvAkoF",
    "outputId": "8f19648f-5e1a-4628-a327-85b4632acd31"
   },
   "outputs": [],
   "source": [
    "STOP_WORDS = nltk.corpus.stopwords.words() + [\"br\"]\n",
    "\n",
    "#creating a function for cleanig the sentences in the dataset\n",
    "def clean_sentence(val):\n",
    "    \"remove chars that are not letters or numbers, downcase, then remove stop words\"\n",
    "    regex = re.compile('([^\\s\\w]|_)+')\n",
    "    sentence = regex.sub('', val).lower()\n",
    "    sentence = sentence.split(\" \")\n",
    "\n",
    "    for word in list(sentence):\n",
    "        if word in STOP_WORDS:\n",
    "            sentence.remove(word)\n",
    "\n",
    "    sentence = \" \".join(sentence)\n",
    "    return sentence\n",
    "\n",
    "#creating a function for drop nans, then apply 'clean_sentence' function to Recordings\n",
    "def clean_dataframe(data):\n",
    "    data = data.dropna(how=\"any\")\n",
    "\n",
    "    for col in ['Recording']:\n",
    "        data[col] = data[col].progress_apply(clean_sentence)\n",
    "\n",
    "    return data\n",
    "\n",
    "data = clean_dataframe(data)"
   ]
  },
  {
   "cell_type": "code",
   "execution_count": null,
   "metadata": {
    "id": "fsoWfRKHB3Oo"
   },
   "outputs": [],
   "source": [
    "#creating new csv file for the cleaned data\n",
    "data.to_csv('dataset_clean.csv')"
   ]
  },
  {
   "cell_type": "markdown",
   "metadata": {
    "id": "m4ynfTXu2APO"
   },
   "source": [
    "**Loading and encoding the data from the dataset**"
   ]
  },
  {
   "cell_type": "code",
   "execution_count": null,
   "metadata": {
    "id": "QUhaKZYl1K6F"
   },
   "outputs": [],
   "source": [
    "#importing the chardet library for encoding the data from the dataset\n",
    "import chardet\n",
    "# Detect the encoding of the cleaned data file\n",
    "with open('dataset_clean.csv', 'rb') as f:\n",
    "    result = chardet.detect(f.read())\n",
    "encoding = result['encoding']"
   ]
  },
  {
   "cell_type": "markdown",
   "metadata": {
    "id": "IsAgc9CZ2KBB"
   },
   "source": [
    "**Training the data with different ML models**"
   ]
  },
  {
   "cell_type": "code",
   "execution_count": null,
   "metadata": {
    "id": "l4ZOyoiG32P5"
   },
   "outputs": [],
   "source": [
    "#importing the required libraries to ready the data for modeling\n",
    "from sklearn.feature_extraction.text import CountVectorizer\n",
    "from sklearn.model_selection import train_test_split"
   ]
  },
  {
   "cell_type": "code",
   "execution_count": null,
   "metadata": {
    "id": "jPI7c3OH4Ki9"
   },
   "outputs": [],
   "source": [
    "# Load the data\n",
    "df = pd.read_csv('dataset_clean.csv',encoding=encoding)\n",
    "df=df.dropna(how=\"any\")\n",
    "# Split the data into training and testing sets\n",
    "X = df['Recording']\n",
    "y = df['Threat']\n",
    "X_train, X_test, y_train, y_test = train_test_split(X, y, test_size=0.2,random_state = 0)\n",
    "# Convert text to bag-of-words features\n",
    "vectorizer = CountVectorizer()\n",
    "X_train = vectorizer.fit_transform(X_train)\n",
    "X_test = vectorizer.transform(X_test)"
   ]
  },
  {
   "cell_type": "markdown",
   "metadata": {
    "id": "lXXFy85i4hzQ"
   },
   "source": [
    "**Logistic regression**"
   ]
  },
  {
   "cell_type": "code",
   "execution_count": null,
   "metadata": {
    "id": "Nn6ieZs04oDU"
   },
   "outputs": [],
   "source": [
    "from sklearn.linear_model import LogisticRegression\n",
    "# Training a logistic regression model\n",
    "clf_lr = LogisticRegression()\n",
    "clf_lr.fit(X_train, y_train)\n",
    "\n",
    "# Making predictions on the test set\n",
    "y_pred_lr = clf_lr.predict(X_test)"
   ]
  },
  {
   "cell_type": "markdown",
   "metadata": {
    "id": "jpasnDcd5Anq"
   },
   "source": [
    "**Decision tree classifier**"
   ]
  },
  {
   "cell_type": "code",
   "execution_count": null,
   "metadata": {
    "id": "CQa8AGGD5LiH"
   },
   "outputs": [],
   "source": [
    "from sklearn.tree import DecisionTreeClassifier\n",
    "# Training a decision tree classifier\n",
    "clf_dt = DecisionTreeClassifier(criterion = 'entropy', random_state = 42)\n",
    "clf_dt.fit(X_train, y_train)\n",
    "\n",
    "# Making predictions on the test set\n",
    "y_pred_dt = clf_dt.predict(X_test)"
   ]
  },
  {
   "cell_type": "markdown",
   "metadata": {
    "id": "WCEFMvlq5dMF"
   },
   "source": [
    "**Random forest classifier**"
   ]
  },
  {
   "cell_type": "code",
   "execution_count": null,
   "metadata": {
    "id": "2B6ITG3Z5ikA"
   },
   "outputs": [],
   "source": [
    "from sklearn.ensemble import RandomForestClassifier\n",
    "# Train a random forest classifier\n",
    "clf_rf = RandomForestClassifier(n_estimators = 100,random_state=42)\n",
    "clf_rf.fit(X_train, y_train)\n",
    "\n",
    "# Make predictions on the test set\n",
    "y_pred_rf = clf_rf.predict(X_test)"
   ]
  },
  {
   "cell_type": "markdown",
   "metadata": {
    "id": "EiXy8KOl5tk8"
   },
   "source": [
    "**Naive Bayes classifier**"
   ]
  },
  {
   "cell_type": "code",
   "execution_count": null,
   "metadata": {
    "id": "s8ieU6W95xvF"
   },
   "outputs": [],
   "source": [
    "from sklearn.naive_bayes import MultinomialNB\n",
    "# Train a Naive Bayes classifier\n",
    "clf_nb = MultinomialNB()\n",
    "clf_nb.fit(X_train, y_train)\n",
    "\n",
    "# Make predictions on the test set\n",
    "y_pred_nb = clf_nb.predict(X_test)"
   ]
  },
  {
   "cell_type": "markdown",
   "metadata": {
    "id": "65_J0GwLnz9V"
   },
   "source": [
    "**Making the confusion matrix**"
   ]
  },
  {
   "cell_type": "code",
   "execution_count": null,
   "metadata": {
    "colab": {
     "base_uri": "https://localhost:8080/",
     "height": 1000
    },
    "id": "7U8QndMmntk0",
    "outputId": "0bc78e03-b04c-42c3-8b54-b3ed454c97dc"
   },
   "outputs": [],
   "source": [
    "import matplotlib.pyplot as plt\n",
    "from sklearn.metrics import confusion_matrix\n",
    "import seaborn as sns\n",
    "\n",
    "#Making the confusion matrix for logistic regression model\n",
    "cm_lr= confusion_matrix(y_test, y_pred_lr)\n",
    "# Create a DataFrame to display the confusion matrix\n",
    "cm_df = pd.DataFrame(cm_lr, index=['Not Approved', 'Approved'], columns=['Not Approved', 'Approved'])\n",
    "\n",
    "# Visualize the confusion matrix using a heatmap\n",
    "plt.figure(figsize=(6, 4))\n",
    "sns.heatmap(cm_df, annot=True, cmap='Blues', fmt='d')\n",
    "plt.title('Confusion Matrix of logistic regression model')\n",
    "plt.xlabel('Predicted')\n",
    "plt.ylabel('Actual')\n",
    "plt.show()\n",
    "\n",
    "#Making the confusion matrix for decision tree classifier\n",
    "cm_dt= confusion_matrix(y_test, y_pred_dt)\n",
    "# Create a DataFrame to display the confusion matrix\n",
    "cm_df = pd.DataFrame(cm_dt, index=['Not Approved', 'Approved'], columns=['Not Approved', 'Approved'])\n",
    "\n",
    "# Visualize the confusion matrix using a heatmap\n",
    "plt.figure(figsize=(6, 4))\n",
    "sns.heatmap(cm_df, annot=True, cmap='Blues', fmt='d')\n",
    "plt.title('Confusion Matrix of decision tree classifier')\n",
    "plt.xlabel('Predicted')\n",
    "plt.ylabel('Actual')\n",
    "plt.show()\n",
    "\n",
    "#Making the confusion matrix for random forest classifier\n",
    "cm_rf= confusion_matrix(y_test, y_pred_rf)\n",
    "# Create a DataFrame to display the confusion matrix\n",
    "cm_df = pd.DataFrame(cm_rf, index=['Not Approved', 'Approved'], columns=['Not Approved', 'Approved'])\n",
    "\n",
    "# Visualize the confusion matrix using a heatmap\n",
    "plt.figure(figsize=(6, 4))\n",
    "sns.heatmap(cm_df, annot=True, cmap='Blues', fmt='d')\n",
    "plt.title('Confusion Matrix of random forest classifier')\n",
    "plt.xlabel('Predicted')\n",
    "plt.ylabel('Actual')\n",
    "plt.show()\n",
    "\n",
    "#Making the confusion matrix for Naive Bayes classifier\n",
    "cm_nb= confusion_matrix(y_test, y_pred_nb)\n",
    "# Create a DataFrame to display the confusion matrix\n",
    "cm_df = pd.DataFrame(cm_nb, index=['Not Approved', 'Approved'], columns=['Not Approved', 'Approved'])\n",
    "print()\n",
    "# Visualize the confusion matrix using a heatmap\n",
    "plt.figure(figsize=(6, 4))\n",
    "sns.heatmap(cm_df, annot=True, cmap='Blues', fmt='d')\n",
    "plt.title('Confusion Matrix of Naive Bayes classifier')\n",
    "plt.xlabel('Predicted')\n",
    "plt.ylabel('Actual')\n",
    "plt.show()\n"
   ]
  },
  {
   "cell_type": "markdown",
   "metadata": {
    "id": "1zyAmXgX58Bw"
   },
   "source": [
    "**Calculating the accuracy of the trained models**"
   ]
  },
  {
   "cell_type": "code",
   "execution_count": null,
   "metadata": {
    "colab": {
     "base_uri": "https://localhost:8080/"
    },
    "id": "FJRlX3LS6EKC",
    "outputId": "47a47327-c514-4e29-dc0f-b824d125f18c"
   },
   "outputs": [],
   "source": [
    "from sklearn.metrics import accuracy_score\n",
    "\n",
    "#Calculate accuracy score for logistic regression model\n",
    "acc_lr= accuracy_score(y_test, y_pred_lr)\n",
    "print('Accuracy of logistic regression model :', acc_lr*100)\n",
    "\n",
    "#Calculate accuracy score for decision tree classifier\n",
    "acc_dt= accuracy_score(y_test, y_pred_dt)\n",
    "print('Accuracy of decision tree classifier :', acc_dt*100)\n",
    "\n",
    "#Calculate accuracy score for random forest classifier\n",
    "acc_rf= accuracy_score(y_test, y_pred_rf)\n",
    "print('Accuracy of random forest classifier :', acc_rf*100)\n",
    "\n",
    "#Calculate accuracy score for Naive Bayes classifier\n",
    "acc_nb= accuracy_score(y_test, y_pred_nb)\n",
    "print('Accuracy of Naive Bayes classifier :', acc_nb*100)"
   ]
  },
  {
   "cell_type": "markdown",
   "metadata": {
    "id": "Fnm6t21_l1Y1"
   },
   "source": [
    "**Testing the text which was generated by converting the recorded audio**"
   ]
  },
  {
   "cell_type": "code",
   "execution_count": null,
   "metadata": {
    "id": "ggZaAZaYmFVR"
   },
   "outputs": [],
   "source": [
    "raw_text =l\n",
    "raw_text_bow = vectorizer.transform([raw_text])\n",
    "# Using  the model to predict the output of the raw text\n",
    "output = clf_lr.predict(raw_text_bow)[0]\n",
    "print(output)"
   ]
  },
  {
   "cell_type": "markdown",
   "metadata": {
    "id": "dvqHZm848yCS"
   },
   "source": [
    "**Sending the alert messages through whatsapp using pywhatkit library**"
   ]
  },
  {
   "cell_type": "code",
   "execution_count": null,
   "metadata": {
    "id": "2n30Iv8xmWuH"
   },
   "outputs": [],
   "source": [
    "#importing the required libraries to send the messages\n",
    "import pywhatkit\n",
    "import datetime\n",
    "#storing the numbers to which you want to send the alert\n",
    "registernumbers=[\"---numbers to which you want to send the alert---\"]\n",
    "\n",
    "if output==0:\n",
    "    for j in range(0,len(registernumbers)):\n",
    "        number=registernumbers[j]\n",
    "        message = \"Threatening call alert\"\n",
    "        pywhatkit.sendwhatmsg(number, message, datetime.datetime.now().hour, datetime.datetime.now().minute + 1)\n",
    "else:\n",
    "    print(\"it's not a threaten call\")"
   ]
  }
 ],
 "metadata": {
  "colab": {
   "provenance": []
  },
  "kernelspec": {
   "display_name": "Python 3 (ipykernel)",
   "language": "python",
   "name": "python3"
  },
  "language_info": {
   "codemirror_mode": {
    "name": "ipython",
    "version": 3
   },
   "file_extension": ".py",
   "mimetype": "text/x-python",
   "name": "python",
   "nbconvert_exporter": "python",
   "pygments_lexer": "ipython3",
   "version": "3.9.17"
  }
 },
 "nbformat": 4,
 "nbformat_minor": 1
}
